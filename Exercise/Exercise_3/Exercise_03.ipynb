{
 "cells": [
  {
   "attachments": {},
   "cell_type": "markdown",
   "metadata": {},
   "source": [
    "## Epipolar geometry\n",
    "set up two cameras, both with the internal parameters,\n",
    "$$\n",
    "K = \\begin{bmatrix}\n",
    "1000 & 0 & 300 \\\\ 0 & 1000 & 200 \\\\ 0 & 0 & 1\n",
    "\\end{bmatrix}\n",
    "$$\n",
    "Now, for the first camera — let us call that Cam1 — set the rotation to identity $R1 = I$ and set the translation to zero $t1 = 0$. For the second camera $Cam2$ use the rotation given by the $R$ function\n",
    "$$\n",
    "R_2 = R(0.7,-0.5,0.8) \\\\\n",
    "R(\\theta_x, \\theta_y, \\theta_z) = \\begin{bmatrix}\n",
    "cos(\\theta_z) & -sin(\\theta_z) & 0 \\\\ sin(\\theta_z) & cos(\\theta_z) & 0 \\\\ 0 & 0 & 1\n",
    "\\end{bmatrix}  \\begin{bmatrix}\n",
    "cos(\\theta_y) & 0 & sin(\\theta_y) \\\\ 0 & 0 & 1 \\\\ -sin(\\theta_y) & 0 & cos(\\theta_y)\n",
    "\\end{bmatrix} \\begin{bmatrix}\n",
    "1 & 0 & 0\\\\ 0 & cos(\\theta_x) & -sin(\\theta_x) \\\\ 0 & sin(\\theta_x) & cos(\\theta_x)\n",
    "\\end{bmatrix}\n",
    "$$\n",
    "and the translation\n",
    "$$\n",
    "t_2 = \\begin{bmatrix} 0.2 \\\\ 2 \\\\ 1 \\end{bmatrix}.\n",
    "$$\n",
    "\n",
    "The rotation can be constructed in Python using Rotation module from scipy as follows:\n",
    "```\n",
    "from scipy.spatial.transform import Rotation\n",
    "R2 = Rotation.from_euler('xyz', [0.7, -0.5, 0.8]).as_matrix()\n",
    "```"
   ]
  },
  {
   "attachments": {},
   "cell_type": "markdown",
   "metadata": {},
   "source": [
    "### Exercise 3.1\n",
    "Consider the 3D point\n",
    "$$\n",
    "Q = \\begin{bmatrix} 1 \\\\ 0.5 \\\\ 4 \\\\ 1 \\end{bmatrix}\n",
    "$$\n",
    "and find the projections in $Cam1$ and $Cam2$, respectively, points $q1$ and $q2$."
   ]
  },
  {
   "cell_type": "code",
   "execution_count": 15,
   "metadata": {},
   "outputs": [
    {
     "name": "stdout",
     "output_type": "stream",
     "text": [
      "q1 = \n",
      " [[550.]\n",
      " [325.]]\n",
      "q2 = \n",
      " [[582.473]\n",
      " [185.99 ]]\n"
     ]
    }
   ],
   "source": [
    "import numpy as np\n",
    "from scipy.spatial.transform import Rotation\n",
    "\n",
    "# converts from homogeneous to inhomogeneous coordinates\n",
    "def Pi(ph):\n",
    "    return ph[:-1]/ph[-1]\n",
    "    \n",
    "# converts from inhomogeneous to homogeneous coordinates\n",
    "def PiInv(p):\n",
    "    ones = np.ones((1, p.shape[1]))\n",
    "    ph = np.vstack((p, ones))\n",
    "    return ph\n",
    "\n",
    "def projectpoints(K, R, t, Q):\n",
    "    Q_homogeneous = PiInv(Q)\n",
    "    q = np.hstack((R,t)) @ Q_homogeneous\n",
    "    P = Pi(q)\n",
    "    p = K @ PiInv(P)\n",
    "    return p\n",
    "\n",
    "K = np.array([[1000,0,300],[0,1000,200],[0,0,1]])\n",
    "R1 = np.eye(3)\n",
    "R2 = Rotation.from_euler('xyz', [0.7, -0.5, 0.8]).as_matrix()\n",
    "t1 = np.zeros((3,1))\n",
    "t2 = np.array([[0.2,2,1]]).T\n",
    "Q = np.array([[1,0.5,4,1]]).T\n",
    "\n",
    "q1 = projectpoints(K, R1, t1, Pi(Q))\n",
    "q2 = projectpoints(K, R2, t2, Pi(Q))\n",
    "\n",
    "print('q1 = \\n', Pi(q1))\n",
    "print('q2 = \\n', Pi(q2).round(3))"
   ]
  },
  {
   "attachments": {},
   "cell_type": "markdown",
   "metadata": {},
   "source": [
    "### Exercise 3.2\n",
    "Implement a function CrossOp that takes a vector in 3D and returns the 3×3 matrix corresponding to taking the cross product with that vector. In the case that $p = \\begin{bmatrix} x & y & z \\end{bmatrix}^T $ you should have\n",
    "$$\n",
    "CrossOp = [p]_\\times = \\begin{bmatrix} 0 & -z & y \\\\ z & 0 & -x \\\\ -y & 0 & x \\end{bmatrix}\n",
    "$$\n",
    "As a good habit, verify that your function works by testing it on random vectors to ensure that\n",
    "$$\n",
    "[p_1]_\\times p_2 = p_1 \\times p_2\n",
    "$$"
   ]
  },
  {
   "cell_type": "code",
   "execution_count": 26,
   "metadata": {},
   "outputs": [
    {
     "name": "stdout",
     "output_type": "stream",
     "text": [
      "[p1]xp2 =  [-0.11579164  0.2049554  -0.03060905]\n",
      "p1 x p2 =  [-0.11579164  0.2049554  -0.03060905]\n"
     ]
    }
   ],
   "source": [
    "def CrossOp(p):\n",
    "    return np.array([[0, -p[2], p[1]],\n",
    "                     [p[2], 0, -p[0]],\n",
    "                     [-p[1], p[0], 0]])\n",
    "\n",
    "p1 = np.random.rand(3)\n",
    "p2 = np.random.rand(3)\n",
    "print(\"[p1]xp2 = \", CrossOp(p1) @ p2)\n",
    "print(\"p1 x p2 = \", np.cross(p1,p2))"
   ]
  }
 ],
 "metadata": {
  "kernelspec": {
   "display_name": "base",
   "language": "python",
   "name": "python3"
  },
  "language_info": {
   "codemirror_mode": {
    "name": "ipython",
    "version": 3
   },
   "file_extension": ".py",
   "mimetype": "text/x-python",
   "name": "python",
   "nbconvert_exporter": "python",
   "pygments_lexer": "ipython3",
   "version": "3.9.13"
  },
  "orig_nbformat": 4,
  "vscode": {
   "interpreter": {
    "hash": "16f5b46f222e2a3e8d4adbf7141cae37b71ed37616e60735fa5d1164a1bc3ada"
   }
  }
 },
 "nbformat": 4,
 "nbformat_minor": 2
}
