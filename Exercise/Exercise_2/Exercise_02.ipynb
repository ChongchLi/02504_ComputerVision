{
 "cells": [
  {
   "attachments": {},
   "cell_type": "markdown",
   "metadata": {},
   "source": [
    "## Mathematical exercises: Pinhole camera\n",
    "In these exercises we will assume a $modern$ camera with completely square pixels. What are the skew parameters then?"
   ]
  },
  {
   "attachments": {},
   "cell_type": "markdown",
   "metadata": {},
   "source": [
    "### Exercise 2.1\n",
    "Reuse the box3d function from last week. Assume that $f$ = 600, $α$ = 1, $β$ = 0, and ${\\delta}_x$ = ${\\delta}_y$ = 400.\n",
    "Given a traditional camera, what is the resolution in pixels?\n",
    ">In a traditional camera, the principal point is exactly in the middle of the sensor. So, for this\n",
    "camera the sensor has 2 × 400 = 800 pixels along each dimension i.e. a resolution of 800 × 800\n",
    "pixels.\n",
    "\n",
    "Also assume $R$ = $I$, and $t = \\begin{bmatrix}\n",
    "0 \\\\ 0.2 \\\\ 1.5\n",
    "\\end{bmatrix}$\n",
    ". Use projectpoints from last week, to project the\n",
    "points.\n",
    "\n",
    "Are all the points are captured by the image sensor?\n",
    "Where does the corner $P_1$ = [−0.5,−0.5,−0.5] project to?\n",
    ">The projection matrix reads $p = \\begin{bmatrix}\n",
    "600 & 0 & 400 & 600 \\\\ 0 & 600 & 400 & 720  \\\\ 0 & 0 & 1 & 1.5\n",
    "\\end{bmatrix}$, Some points have an $y$ value greater than 800, and are not visible in the image, as they are outside\n",
    "the image sensor. $P_1$ projects to $[100,400]^T$"
   ]
  },
  {
   "attachments": {},
   "cell_type": "markdown",
   "metadata": {},
   "source": [
    "### Exercise 2.2"
   ]
  }
 ],
 "metadata": {
  "kernelspec": {
   "display_name": "ImageAnalysis",
   "language": "python",
   "name": "python3"
  },
  "language_info": {
   "codemirror_mode": {
    "name": "ipython",
    "version": 3
   },
   "file_extension": ".py",
   "mimetype": "text/x-python",
   "name": "python",
   "nbconvert_exporter": "python",
   "pygments_lexer": "ipython3",
   "version": "3.8.16"
  },
  "orig_nbformat": 4,
  "vscode": {
   "interpreter": {
    "hash": "a4d64e5e7124fed1cb9b2b775d19473e2cda125e421f89064deb88c47d0689fc"
   }
  }
 },
 "nbformat": 4,
 "nbformat_minor": 2
}
