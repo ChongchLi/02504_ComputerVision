{
 "cells": [
  {
   "cell_type": "code",
   "execution_count": 2,
   "metadata": {},
   "outputs": [],
   "source": [
    "import numpy as np\n",
    "import cv2\n",
    "import matplotlib.pyplot as plt\n",
    "from scipy.spatial.transform import Rotation\n",
    "\n",
    "# converts from homogeneous to inhomogeneous coordinates\n",
    "def Pi(ph):\n",
    "    return ph[:-1]/ph[-1]\n",
    "    \n",
    "# converts from inhomogeneous to homogeneous coordinates\n",
    "def PiInv(p):\n",
    "    ones = np.ones((1, p.shape[1]))\n",
    "    ph = np.vstack((p, ones))\n",
    "    return ph\n",
    "\n",
    "def projectpoints(K, R, t, Q):\n",
    "    Q_homogeneous = PiInv(Q)\n",
    "    q = np.hstack((R,t)) @ Q_homogeneous\n",
    "    P = Pi(q)\n",
    "    p = K @ PiInv(P)\n",
    "    return p"
   ]
  },
  {
   "attachments": {},
   "cell_type": "markdown",
   "metadata": {},
   "source": [
    "# Exercise 4\n",
    "## Mathematical exercises: Direct linear transform (DLT)\n",
    "In this section consider the 3D points: \n",
    "$$\n",
    "Q_{ijk} = \\begin{bmatrix} i \\\\ j \\\\ k \\end{bmatrix}\n",
    "$$\n",
    "where $i \\in $ {0, 1}, $j \\in $ {0, 1}, and $k \\in $ {0, 1}. Consider also a camera with $f$ = 1000 and a resolution of 1920 $\\times$ 1080. Furthermore, the camera is transformed such that\n",
    "$$\n",
    "R = \\begin{bmatrix} \\sqrt{1/2} & -\\sqrt{1/2} & 0 \\\\ \\sqrt{1/2} & \\sqrt{1/2} & 0 \\\\ 0 & 0 & 1 \\end{bmatrix}\n",
    "$$"
   ]
  },
  {
   "attachments": {},
   "cell_type": "markdown",
   "metadata": {},
   "source": [
    "### Exercise 4.1\n",
    "Find the projection matrix $P$ and the projections $q$."
   ]
  },
  {
   "cell_type": "code",
   "execution_count": 4,
   "metadata": {},
   "outputs": [
    {
     "name": "stdout",
     "output_type": "stream",
     "text": [
      "Projection P = :\n",
      " [[ 7.07106781e+02 -7.07106781e+02  9.60000000e+02  9.60000000e+03]\n",
      " [ 7.07106781e+02  7.07106781e+02  5.40000000e+02  5.40000000e+03]\n",
      " [ 0.00000000e+00  0.00000000e+00  1.00000000e+00  1.00000000e+01]]\n",
      "projects q = : \n",
      " [[ 960.    960.    889.29  895.72 1030.71 1024.28  960.    960.  ]\n",
      " [ 540.    540.    610.71  604.28  610.71  604.28  681.42  668.56]]\n"
     ]
    }
   ],
   "source": [
    "K = np.array([[1000, 0, 960],\n",
    "              [0, 1000, 540],\n",
    "              [0, 0, 1]])\n",
    "\n",
    "R = np.array([[np.sqrt(1/2), -np.sqrt(1/2), 0],\n",
    "              [np.sqrt(1/2), np.sqrt(1/2), 0],\n",
    "              [0, 0, 1]])\n",
    "t = np.array([[0, 0, 10]]).T\n",
    "\n",
    "Q = np.array([\n",
    "    [0, 0, 0, 0, 1, 1, 1, 1],\n",
    "    [0, 0, 1, 1, 0, 0, 1, 1],\n",
    "    [0, 1, 0, 1, 0, 1, 0, 1],\n",
    "    np.ones(8)])    \n",
    "P = K @ np.hstack((R,t))\n",
    "print(\"Projection P = :\\n\", P)\n",
    "q = P @ Q\n",
    "q = Pi(q)\n",
    "print(\"projects q = : \\n\", q.round(2))\n"
   ]
  }
 ],
 "metadata": {
  "kernelspec": {
   "display_name": "DeepLearning",
   "language": "python",
   "name": "python3"
  },
  "language_info": {
   "codemirror_mode": {
    "name": "ipython",
    "version": 3
   },
   "file_extension": ".py",
   "mimetype": "text/x-python",
   "name": "python",
   "nbconvert_exporter": "python",
   "pygments_lexer": "ipython3",
   "version": "3.8.15"
  },
  "orig_nbformat": 4,
  "vscode": {
   "interpreter": {
    "hash": "6fa3bc410bd5ebe59a6de1fb321c9d3b904b2a283ae1a66912e9a66895cfb30c"
   }
  }
 },
 "nbformat": 4,
 "nbformat_minor": 2
}
