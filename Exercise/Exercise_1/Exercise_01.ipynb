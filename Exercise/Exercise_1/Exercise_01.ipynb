{
 "cells": [
  {
   "attachments": {},
   "cell_type": "markdown",
   "metadata": {},
   "source": [
    "### Exercise 1.1\n",
    "$$ q_1 = \\begin{bmatrix}\n",
    "1\\\\\n",
    "2\n",
    "\\end{bmatrix},\n",
    "q_2 = \\begin{bmatrix}\n",
    "2\\\\\n",
    "1\n",
    "\\end{bmatrix},\n",
    "q_3 = \\begin{bmatrix}\n",
    "-6\\\\\n",
    "-4\n",
    "\\end{bmatrix},\n",
    "q_4 = \\begin{bmatrix}\n",
    "10\\\\\n",
    "6\n",
    "\\end{bmatrix}\n",
    "$$"
   ]
  },
  {
   "attachments": {},
   "cell_type": "markdown",
   "metadata": {},
   "source": [
    "### Exercise 1.2\n",
    "$$\n",
    "Q_1 = \\begin{bmatrix}\n",
    "1\\\\\n",
    "10\\\\\n",
    "-3\n",
    "\\end{bmatrix},\n",
    "Q_2 = \\begin{bmatrix}\n",
    "1\\\\\n",
    "-2\\\\\n",
    "0.55\n",
    "\\end{bmatrix},\n",
    "Q_3 = \\begin{bmatrix}\n",
    "0\\\\\n",
    "0\\\\\n",
    "-0.1\n",
    "\\end{bmatrix},\n",
    "Q_4 = \\begin{bmatrix}\n",
    "-5\\\\\n",
    "1\\\\\n",
    "2\n",
    "\\end{bmatrix}\n",
    "$$"
   ]
  },
  {
   "attachments": {},
   "cell_type": "markdown",
   "metadata": {},
   "source": [
    "### Exercise 1.3\n",
    "$$\n",
    "x + 2y - 3 = 0 ==> l = \\begin{bmatrix}\n",
    "1 \\\\ 2 \\\\ -3\n",
    "\\end{bmatrix}\n",
    "$$\n"
   ]
  },
  {
   "attachments": {},
   "cell_type": "markdown",
   "metadata": {},
   "source": [
    "### Exercise 1.4 \n",
    "$$ l = \\begin{bmatrix}\n",
    "1 & 2 & -3\n",
    "\\end{bmatrix}^T\n",
    "\\\\\n",
    "\n",
    "l^T * p1 = 0; \\\\ \n",
    "l^T * p2 = 0; \\\\\n",
    "l^T * p3 = -3; \\\\ \n",
    "l^T * p4 = 0; \\\\ \n",
    "l^T * p5 = 0; \\\\ \n",
    "l^T * p6 = 16;\n",
    "$$\n",
    "so the answer is p1,p2,p4,p5"
   ]
  },
  {
   "attachments": {},
   "cell_type": "markdown",
   "metadata": {},
   "source": [
    "### Exercise 1.5\n",
    "$$\n",
    "l_0 = \\begin{bmatrix}\n",
    "1 \\\\ 1 \\\\ -1\n",
    "\\end{bmatrix}, \n",
    "l_1 = \\begin{bmatrix}\n",
    "-1 \\\\ 1 \\\\ -3\n",
    "\\end{bmatrix}\n",
    "\\\\\n",
    "\n",
    "q_I = l_0 \\times l_1 = \n",
    "\\begin{bmatrix}\n",
    "(1*-3) - (-1*1) \\\\ (-1*-1) - (-3*1) \\\\ (1*1)-(-1*1)\n",
    "\\end{bmatrix} = \n",
    "\\begin{bmatrix}\n",
    "-2\\\\ 4 \\\\ 2\n",
    "\\end{bmatrix}\n",
    "$$"
   ]
  },
  {
   "attachments": {},
   "cell_type": "markdown",
   "metadata": {},
   "source": [
    "### Exercise 1.6\n",
    "Consider $p = \\begin{bmatrix}\n",
    "x \\\\ y \\\\ 1\n",
    "\\end{bmatrix}$, so $Ap = q = \\begin{bmatrix}\n",
    "10x+2 \\\\ 10y-3 \\\\ 1\n",
    "\\end{bmatrix} $\n",
    "\n",
    "The first row in matrix A scales the x-coordinate of p by a factor of 10. The second row scales the y-coordinate by a factor of 10. The third row does not modify the x and y coordinates, but adds a constant of 2 to the x-coordinate and subtracts 3 from the y-coordinate. The third element of the result, 1, represents the homogeneous coordinate."
   ]
  },
  {
   "attachments": {},
   "cell_type": "markdown",
   "metadata": {},
   "source": [
    "### Exercise 1.7"
   ]
  },
  {
   "cell_type": "code",
   "execution_count": 19,
   "metadata": {},
   "outputs": [
    {
     "name": "stdout",
     "output_type": "stream",
     "text": [
      "Distance between line and p1: 0.7071067811865475\n",
      "Distance between line and p2: 2.1213203435596424\n",
      "Distance between line and p3: 4.242640687119285\n"
     ]
    }
   ],
   "source": [
    "import numpy as np\n",
    "\n",
    "def distance_line_point(l, p):\n",
    "    l = np.array(l)\n",
    "    p = np.array(p)\n",
    "    l_unit = l / np.linalg.norm(l)\n",
    "    proj = np.dot(p - np.zeros(3), l_unit) * l_unit\n",
    "    return np.linalg.norm(p - (proj + np.zeros(3)))\n",
    "\n",
    "l = np.array([1/np.sqrt(2), 1/np.sqrt(2), -1])\n",
    "p1 = np.array([0, 0, 1])\n",
    "p2 = np.array([np.sqrt(2), np.sqrt(2), 1])\n",
    "p3 = np.array([np.sqrt(2), np.sqrt(2), 4])\n",
    "\n",
    "print(\"Distance between line and p1:\", distance_line_point(l, p1))\n",
    "print(\"Distance between line and p2:\", distance_line_point(l, p2))\n",
    "print(\"Distance between line and p3:\", distance_line_point(l, p3))"
   ]
  }
 ],
 "metadata": {
  "kernelspec": {
   "display_name": "ImageAnalysis",
   "language": "python",
   "name": "python3"
  },
  "language_info": {
   "codemirror_mode": {
    "name": "ipython",
    "version": 3
   },
   "file_extension": ".py",
   "mimetype": "text/x-python",
   "name": "python",
   "nbconvert_exporter": "python",
   "pygments_lexer": "ipython3",
   "version": "3.8.16"
  },
  "orig_nbformat": 4,
  "vscode": {
   "interpreter": {
    "hash": "a4d64e5e7124fed1cb9b2b775d19473e2cda125e421f89064deb88c47d0689fc"
   }
  }
 },
 "nbformat": 4,
 "nbformat_minor": 2
}
